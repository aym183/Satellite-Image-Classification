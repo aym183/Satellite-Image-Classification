{
 "cells": [
  {
   "cell_type": "markdown",
   "metadata": {},
   "source": [
    "## Task 4 - Clustering\n",
    "\n",
    "Use PCA to reduce the dimensionality of the data to 2. You should use the dataset obtained after pre-processing and transformation from Task 3.1 without feature selection. Write a Python program to visualize the results of clustering the PCA-reduced dataset.\n",
    "\n",
    "Markdown Question: How do you think the visualization will change if you used 3 PCA components?\n",
    "\n",
    "<span style=\"font-weight:bold;\">Save your response (program and markdown) as task4.ipynb.</span>"
   ]
  },
  {
   "cell_type": "code",
   "execution_count": 2,
   "metadata": {},
   "outputs": [],
   "source": [
    "# ---- REMOVE REDUNDANT FEATURES\n",
    "import numpy as np\n",
    "from sklearn.svm import SVC\n",
    "import matplotlib.pyplot as plt \n",
    "from functions.pre_processing import *\n",
    "from functions.transformations import *\n",
    "from functions.feature_selection import *\n",
    "from functions.analysis import *\n",
    "from functions.model import *\n",
    "from functions.classifiers import *\n",
    "from functions.evaluation import *\n",
    "from sklearn.metrics import accuracy_score, confusion_matrix\n",
    "import warnings\n",
    "from sklearn.exceptions import ConvergenceWarning\n",
    "from scipy.stats import ttest_rel, ttest_ind\n",
    "# A visualization should have a goal/question/hypothesis. Clarify this!"
   ]
  },
  {
   "cell_type": "code",
   "execution_count": null,
   "metadata": {},
   "outputs": [],
   "source": [
    "'''\n",
    "PCA is a dimensionality reduction technique (reducing data whilst keeping as much info as possible - mainly removes cols). \n",
    "'''\n",
    "\n",
    "svc_task1 = load_model(\"models/task2/mlp_holdout\")"
   ]
  },
  {
   "cell_type": "markdown",
   "metadata": {},
   "source": [
    "----\n",
    "<span style=\"font-weight:bold;\">Markdown Question: How do you think the visualization will change if you used 3 PCA components?"
   ]
  },
  {
   "cell_type": "markdown",
   "metadata": {},
   "source": []
  }
 ],
 "metadata": {
  "kernelspec": {
   "display_name": "Python 3",
   "language": "python",
   "name": "python3"
  },
  "language_info": {
   "codemirror_mode": {
    "name": "ipython",
    "version": 3
   },
   "file_extension": ".py",
   "mimetype": "text/x-python",
   "name": "python",
   "nbconvert_exporter": "python",
   "pygments_lexer": "ipython3",
   "version": "3.12.0"
  }
 },
 "nbformat": 4,
 "nbformat_minor": 2
}
