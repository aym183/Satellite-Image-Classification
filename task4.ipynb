{
 "cells": [
  {
   "cell_type": "markdown",
   "metadata": {},
   "source": [
    "## Task 4\n",
    "\n",
    "Use PCA to reduce the dimensionality of the data to 2. You should use the dataset obtained after pre-processing and transformation from Task 3.1 without feature selection. Write a Python program to visualize the results of clustering the PCA-reduced dataset.\n",
    "\n",
    "Markdown Question: How do you think the visualization will change if you used 3 PCA components?\n",
    "\n",
    "<span style=\"font-weight:bold;\">Save your response (program and markdown) as task4.ipynb.</span>"
   ]
  }
 ],
 "metadata": {
  "language_info": {
   "name": "python"
  }
 },
 "nbformat": 4,
 "nbformat_minor": 2
}
