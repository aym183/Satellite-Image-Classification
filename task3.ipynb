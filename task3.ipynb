{
 "cells": [
  {
   "cell_type": "markdown",
   "metadata": {},
   "source": [
    "## Task 3 - Hypothesis Testing\n",
    "\n",
    "Repeat Task 3.2 after rescaling all features in the range [10, 15]. Use hypothesis testing to compare the performance of the models developed in this task with that developed in Tasks 3.2.\n",
    "\n",
    "Markdown Question: What was the hypothesis you rejected in this task? How does p-value affect your decision?\n",
    "\n",
    "<span style=\"font-weight:bold;\">Save your response (program and markdown) as task3.ipynb</span>"
   ]
  },
  {
   "cell_type": "markdown",
   "metadata": {},
   "source": [
    "hypotheses testing for classification"
   ]
  },
  {
   "cell_type": "code",
   "execution_count": 1,
   "metadata": {},
   "outputs": [],
   "source": [
    "import numpy as np\n",
    "from sklearn.svm import SVC\n",
    "import matplotlib.pyplot as plt \n",
    "from functions.pre_processing import *\n",
    "from functions.transformations import *\n",
    "from functions.feature_selection import *\n",
    "from functions.analysis import *\n",
    "from functions.classifiers import *\n",
    "from functions.evaluation import *\n",
    "from sklearn.metrics import accuracy_score, confusion_matrix\n",
    "import warnings\n",
    "from sklearn.exceptions import ConvergenceWarning\n",
    "from scipy.stats import ttest_rel\n",
    "\n",
    "# A visualization should have a goal/question/hypothesis. Clarify this!"
   ]
  },
  {
   "cell_type": "markdown",
   "metadata": {},
   "source": [
    "-----\n",
    "## Pre-Processing and Transformation"
   ]
  },
  {
   "cell_type": "code",
   "execution_count": 2,
   "metadata": {},
   "outputs": [],
   "source": [
    "x_train, x_test, y_train, y_test = fetch_datasets()\n",
    "\n",
    "x_train_norm, x_test_norm = normalise_min_max_task_3(x_train, x_test)"
   ]
  },
  {
   "cell_type": "markdown",
   "metadata": {},
   "source": [
    "---\n",
    "## MLP Classifier Training\n",
    "Can see from the model's performance that there is clear overfitting occuring on recaling to [10,15]"
   ]
  },
  {
   "cell_type": "code",
   "execution_count": 3,
   "metadata": {},
   "outputs": [
    {
     "name": "stdout",
     "output_type": "stream",
     "text": [
      "------ Holdout Validation ------\n",
      "Training Accuracy: 0.115\n",
      "Testing Accuracy: 0.10796296296296297\n",
      "------ Cross Validation ------\n",
      "Mean Accuracy: 0.12117283950617283\n",
      "------ K fold Validation ------\n",
      "Mean Accuracy: 0.23851851851851852\n",
      "Std Deviation: 0.22811263819640296\n"
     ]
    }
   ],
   "source": [
    "warnings.filterwarnings(\"ignore\", category=ConvergenceWarning)\n",
    "mlp_training_holdout = mlp_classifier(x_train_norm, x_test_norm, y_train, y_test, \"holdout\")\n",
    "mlp_training_cv = mlp_classifier(x_train_norm, x_test_norm, y_train, y_test, \"cv\")\n",
    "mlp_training_k_fold = mlp_classifier(x_train_norm, x_test_norm, y_train, y_test, \"k_fold\")\n",
    "mlp_training_k_fold_strat = mlp_classifier(x_train_norm, x_test_norm, y_train, y_test, \"k_fold_strat\")"
   ]
  },
  {
   "cell_type": "markdown",
   "metadata": {},
   "source": [
    "---\n",
    "## Evaluation"
   ]
  },
  {
   "cell_type": "code",
   "execution_count": null,
   "metadata": {},
   "outputs": [
    {
     "ename": "NameError",
     "evalue": "name 'mlp_training_holdout' is not defined",
     "output_type": "error",
     "traceback": [
      "\u001b[0;31m---------------------------------------------------------------------------\u001b[0m",
      "\u001b[0;31mNameError\u001b[0m                                 Traceback (most recent call last)",
      "Cell \u001b[0;32mIn[54], line 1\u001b[0m\n\u001b[0;32m----> 1\u001b[0m fetch_classification_report(\u001b[43mmlp_training_holdout\u001b[49m, x_test_norm, y_test)\n",
      "\u001b[0;31mNameError\u001b[0m: name 'mlp_training_holdout' is not defined"
     ]
    }
   ],
   "source": [
    "fetch_classification_report(mlp_training_holdout, x_test_norm, y_test)"
   ]
  },
  {
   "cell_type": "code",
   "execution_count": null,
   "metadata": {},
   "outputs": [],
   "source": [
    "plot_confusion_matrix(mlp_training_holdout, x_test_norm, y_test)"
   ]
  },
  {
   "cell_type": "markdown",
   "metadata": {},
   "source": [
    "#### Precision Recall, ROC, and DET Curve"
   ]
  },
  {
   "cell_type": "code",
   "execution_count": null,
   "metadata": {},
   "outputs": [],
   "source": [
    "y_pred_prob = mlp_training_holdout.predict_proba(x_test_norm)\n",
    "plot_precision_recall_curve(y_test, y_pred_prob)\n",
    "plot_roc_curve(y_test, y_pred_prob)\n",
    "plot_det_curve(y_test, y_pred_prob)"
   ]
  },
  {
   "cell_type": "code",
   "execution_count": null,
   "metadata": {},
   "outputs": [],
   "source": [
    "fetch_accuracy_score(y_test, y_pred)\n",
    "y_pred_prob = mlp_training_holdout.predict_proba(x_test_norm)\n",
    "fetch_log_loss(y_test, y_pred_prob)"
   ]
  },
  {
   "cell_type": "markdown",
   "metadata": {},
   "source": [
    "---\n",
    "## Hypothesis Testing "
   ]
  },
  {
   "cell_type": "code",
   "execution_count": null,
   "metadata": {},
   "outputs": [],
   "source": [
    "# Use hypothesis testing to compare the performance of the models developed in this task with that developed in Tasks 3.2.\n",
    "# Classification accuracy -> No of total classified samples/Total no of samples\n",
    "# TP, TN, FP, FN\n",
    "# Precision, Recall, F-score, support\n",
    "# Assuming TP rate is 75%, How confident are you that the same TP rate will be achieved when the model is used in a real application? Use statistics!\n",
    "# How do you statistically validate conclusions like “SVM is better than linear regression”?\n",
    "# T-test -> 1 sample t-test, 2 sample t-test \n",
    "# paired t-test (probably this one as we compare the same model, config before and after new rescling)\n",
    "# Check more metrics to add from sklearn -> https://scikit-learn.org/stable/modules/classes.html"
   ]
  },
  {
   "cell_type": "code",
   "execution_count": 53,
   "metadata": {},
   "outputs": [
    {
     "name": "stdout",
     "output_type": "stream",
     "text": [
      "t-statistic - 68.39696550980399\n",
      "p-value - 0.0002136914305936504\n"
     ]
    }
   ],
   "source": [
    "task_2_training_acc = 0.9640123456790124\n",
    "task_2_testing_acc = 0.9248148148148149\n",
    "task_2_cv_mean_acc = 0.9309876543209876\n",
    "\n",
    "task_3_training_acc = 0.115\n",
    "task_3_testing_acc = 0.10796296296296297\n",
    "task_3_cv_mean_acc = 0.12117283950617283\n",
    "\n",
    "t_statistic, p_value = ttest_rel(\n",
    "    [task_2_training_acc, task_2_testing_acc, task_2_cv_mean_acc],\n",
    "    [task_3_training_acc, task_3_testing_acc, task_3_cv_mean_acc]\n",
    ")\n",
    "print(f\"t-statistic - {t_statistic}\") # 68.39696550980399 -> Evidence against null hypothesis (which indicates there is no difference between the two models) \n",
    "print(f\"p-value - {p_value}\") # 0.0002136914305936504 -> Not statistically significant because less thatn 0.05 -> So null hypothesis rejected\n"
   ]
  },
  {
   "cell_type": "markdown",
   "metadata": {},
   "source": [
    "<span style=\"font-style:italic;color:aqua\">The t-statistic and p-value provide evidence that there is a statistically significant difference in the mean accuracy between the models developed in Task 3.2 and Task 3.3. The model developed in Task 3.2, which was rescaled to [-1, 1], outperformed the model developed in Task 3.3, which was rescaled to [10, 15].</span>"
   ]
  },
  {
   "cell_type": "markdown",
   "metadata": {},
   "source": [
    "Markdown Question: What was the hypothesis you rejected in this task? How does p-value affect your decision?"
   ]
  },
  {
   "cell_type": "markdown",
   "metadata": {},
   "source": []
  }
 ],
 "metadata": {
  "kernelspec": {
   "display_name": "Python 3",
   "language": "python",
   "name": "python3"
  },
  "language_info": {
   "codemirror_mode": {
    "name": "ipython",
    "version": 3
   },
   "file_extension": ".py",
   "mimetype": "text/x-python",
   "name": "python",
   "nbconvert_exporter": "python",
   "pygments_lexer": "ipython3",
   "version": "3.12.0"
  }
 },
 "nbformat": 4,
 "nbformat_minor": 2
}
