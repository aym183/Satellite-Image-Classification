{
 "cells": [
  {
   "cell_type": "markdown",
   "metadata": {},
   "source": [
    "## Task 3\n",
    "\n",
    "Repeat Task 3.2 after rescaling all features in the range [10, 15]. Use hypothesis testing to compare the performance of the models developed in this task with that developed in Tasks 3.2.\n",
    "\n",
    "Markdown Question: What was the hypothesis you rejected in this task? How does p-value affect your decision?\n",
    "\n",
    "<span style=\"font-weight:bold;\">Save your response (program and markdown) as task3.ipynb</span>"
   ]
  }
 ],
 "metadata": {
  "language_info": {
   "name": "python"
  }
 },
 "nbformat": 4,
 "nbformat_minor": 2
}
