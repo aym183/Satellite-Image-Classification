{
 "cells": [
  {
   "cell_type": "markdown",
   "metadata": {},
   "source": [
    "## Task 3 - Hypothesis Testing\n",
    "\n",
    "Repeat Task 3.2 after rescaling all features in the range [10, 15]. Use hypothesis testing to compare the performance of the models developed in this task with that developed in Tasks 3.2.\n",
    "\n",
    "Markdown Question: What was the hypothesis you rejected in this task? How does p-value affect your decision?\n",
    "\n",
    "<span style=\"font-weight:bold;\">Save your response (program and markdown) as task3.ipynb</span>"
   ]
  },
  {
   "cell_type": "markdown",
   "metadata": {},
   "source": [
    "hypotheses testing for classification"
   ]
  },
  {
   "cell_type": "code",
   "execution_count": null,
   "metadata": {},
   "outputs": [],
   "source": [
    "import numpy as np\n",
    "from sklearn.svm import SVC\n",
    "import matplotlib.pyplot as plt \n",
    "from functions.pre_processing import *\n",
    "from functions.transformations import *\n",
    "from functions.feature_selection import *\n",
    "from functions.analysis import *\n",
    "from functions.classifiers import *\n",
    "from functions.evaluation import *\n",
    "from sklearn.metrics import accuracy_score, confusion_matrix\n",
    "import warnings\n",
    "from sklearn.exceptions import ConvergenceWarning\n",
    "from scipy.stats import ttest_rel\n",
    "\n",
    "# A visualization should have a goal/question/hypothesis. Clarify this!"
   ]
  },
  {
   "cell_type": "markdown",
   "metadata": {},
   "source": [
    "-----\n",
    "## Pre-Processing and Transformation"
   ]
  },
  {
   "cell_type": "code",
   "execution_count": 2,
   "metadata": {},
   "outputs": [],
   "source": [
    "x_train, x_test, y_train, y_test = fetch_datasets()\n",
    "\n",
    "x_train_norm, x_test_norm = normalise_min_max_task_3(x_train, x_test)"
   ]
  },
  {
   "cell_type": "markdown",
   "metadata": {},
   "source": [
    "---\n",
    "## MLP Classifier Training\n",
    "Can see from the model's performance that there is clear overfitting occuring on recaling to [10,15]"
   ]
  },
  {
   "cell_type": "code",
   "execution_count": 4,
   "metadata": {},
   "outputs": [
    {
     "name": "stdout",
     "output_type": "stream",
     "text": [
      "------ Holdout Validation ------\n",
      "Training Accuracy: 0.115\n",
      "Testing Accuracy: 0.10796296296296297\n",
      "------ Cross Validation ------\n",
      "Mean Accuracy: 0.12117283950617283\n",
      "------ K fold Validation ------\n",
      "Mean Accuracy: 0.12086419753086419\n",
      "Std Deviation: 0.036688483346172016\n",
      "------ Stratified K fold Validation ------\n",
      "Mean Accuracy: 0.13228395061728396\n",
      "Std Deviation: 0.06045353281347278\n"
     ]
    }
   ],
   "source": [
    "warnings.filterwarnings(\"ignore\", category=ConvergenceWarning)\n",
    "mlp_training_holdout = mlp_classifier(x_train_norm, x_test_norm, y_train, y_test, \"holdout\")\n",
    "mlp_training_cv = mlp_classifier(x_train_norm, x_test_norm, y_train, y_test, \"cv\")\n",
    "mlp_training_k_fold = mlp_classifier(x_train_norm, x_test_norm, y_train, y_test, \"k_fold\")\n",
    "mlp_training_k_fold_strat = mlp_classifier(x_train_norm, x_test_norm, y_train, y_test, \"k_fold_strat\")"
   ]
  },
  {
   "cell_type": "markdown",
   "metadata": {},
   "source": [
    "---\n",
    "## Hypothesis Testing "
   ]
  },
  {
   "cell_type": "code",
   "execution_count": null,
   "metadata": {},
   "outputs": [],
   "source": [
    "# Use hypothesis testing to compare the performance of the models developed in this task with that developed in Tasks 3.2.\n",
    "# Classification accuracy -> No of total classified samples/Total no of samples\n",
    "# TP, TN, FP, FN\n",
    "# Precision, Recall, F-score, support\n",
    "# Assuming TP rate is 75%, How confident are you that the same TP rate will be achieved when the model is used in a real application? Use statistics!\n",
    "# How do you statistically validate conclusions like “SVM is better than linear regression”?\n",
    "# T-test -> 1 sample t-test, 2 sample t-test \n",
    "# paired t-test (probably this one as we compare the same model, config before and after new rescling)\n",
    "# Check more metrics to add from sklearn -> https://scikit-learn.org/stable/modules/classes.html"
   ]
  },
  {
   "cell_type": "code",
   "execution_count": 6,
   "metadata": {},
   "outputs": [],
   "source": [
    "task_2_training_acc = 0.9640123456790124\n",
    "task_2_testing_acc = 0.9248148148148149\n",
    "task_2_cv_mean_acc = 0.9309876543209876\n",
    "\n",
    "task_3_training_acc = 0.115\n",
    "task_3_testing_acc = 0.10796296296296297\n",
    "task_3_cv_mean_acc = 0.12117283950617283\n"
   ]
  },
  {
   "cell_type": "markdown",
   "metadata": {},
   "source": [
    "Markdown Question: What was the hypothesis you rejected in this task? How does p-value affect your decision?"
   ]
  },
  {
   "cell_type": "markdown",
   "metadata": {},
   "source": []
  }
 ],
 "metadata": {
  "kernelspec": {
   "display_name": "Python 3",
   "language": "python",
   "name": "python3"
  },
  "language_info": {
   "codemirror_mode": {
    "name": "ipython",
    "version": 3
   },
   "file_extension": ".py",
   "mimetype": "text/x-python",
   "name": "python",
   "nbconvert_exporter": "python",
   "pygments_lexer": "ipython3",
   "version": "3.12.0"
  }
 },
 "nbformat": 4,
 "nbformat_minor": 2
}
