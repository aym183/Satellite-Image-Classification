{
 "cells": [
  {
   "cell_type": "markdown",
   "metadata": {},
   "source": [
    "## Task 3 - Hypothesis Testing\n",
    "\n",
    "Repeat Task 3.2 after rescaling all features in the range [10, 15]. Use hypothesis testing to compare the performance of the models developed in this task with that developed in Tasks 3.2.\n",
    "\n",
    "Markdown Question: What was the hypothesis you rejected in this task? How does p-value affect your decision?\n",
    "\n",
    "<span style=\"font-weight:bold;\">Save your response (program and markdown) as task3.ipynb</span>"
   ]
  },
  {
   "cell_type": "markdown",
   "metadata": {},
   "source": [
    "hypotheses testing for classification"
   ]
  },
  {
   "cell_type": "code",
   "execution_count": null,
   "metadata": {},
   "outputs": [],
   "source": [
    "import numpy as np\n",
    "from sklearn.svm import SVC\n",
    "import matplotlib.pyplot as plt \n",
    "from functions.pre_processing import *\n",
    "from functions.transformations import *\n",
    "from functions.feature_selection import *\n",
    "from functions.analysis import *\n",
    "from functions.classifiers import *\n",
    "from functions.evaluation import *\n",
    "from sklearn.metrics import accuracy_score, confusion_matrix\n",
    "import warnings\n",
    "from sklearn.exceptions import ConvergenceWarning"
   ]
  },
  {
   "cell_type": "markdown",
   "metadata": {},
   "source": [
    "-----\n",
    "## Pre-Processing and Transformation"
   ]
  },
  {
   "cell_type": "code",
   "execution_count": 2,
   "metadata": {},
   "outputs": [],
   "source": [
    "x_train, x_test, y_train, y_test = fetch_datasets()\n",
    "\n",
    "x_train_norm, x_test_norm = normalise_min_max_task_3(x_train, x_test)"
   ]
  },
  {
   "cell_type": "markdown",
   "metadata": {},
   "source": [
    "---\n",
    "## MLP Classifier Training"
   ]
  },
  {
   "cell_type": "code",
   "execution_count": 4,
   "metadata": {},
   "outputs": [
    {
     "name": "stdout",
     "output_type": "stream",
     "text": [
      "------ Holdout Validation ------\n",
      "Training Accuracy: 0.115\n",
      "Testing Accuracy: 0.10796296296296297\n",
      "------ Cross Validation ------\n",
      "Mean Accuracy: 0.12117283950617283\n",
      "------ K fold Validation ------\n",
      "Mean Accuracy: 0.12086419753086419\n",
      "Std Deviation: 0.036688483346172016\n",
      "------ Stratified K fold Validation ------\n",
      "Mean Accuracy: 0.13228395061728396\n",
      "Std Deviation: 0.06045353281347278\n"
     ]
    }
   ],
   "source": [
    "warnings.filterwarnings(\"ignore\", category=ConvergenceWarning)\n",
    "mlp_training_holdout = mlp_classifier(x_train_norm, x_test_norm, y_train, y_test, \"holdout\")\n",
    "mlp_training_cv = mlp_classifier(x_train_norm, x_test_norm, y_train, y_test, \"cv\")\n",
    "mlp_training_k_fold = mlp_classifier(x_train_norm, x_test_norm, y_train, y_test, \"k_fold\")\n",
    "mlp_training_k_fold_strat = mlp_classifier(x_train_norm, x_test_norm, y_train, y_test, \"k_fold_strat\")"
   ]
  },
  {
   "cell_type": "markdown",
   "metadata": {},
   "source": [
    "---\n",
    "## Hypothesis Testing "
   ]
  },
  {
   "cell_type": "code",
   "execution_count": null,
   "metadata": {},
   "outputs": [],
   "source": [
    "# Testing this model and the one from the previous [TO DO]\n",
    "# Classification accuracy\n",
    "# TP, TN, FP, FN\n",
    "# Precision, Recall, F-score, support\n",
    "# Assuming TP rate is 75%, How confident are you that the same TP rate will be achieved when the model is used in a real application?\n",
    "# How do you statistically validate conclusions like “SVM is better than linear regression”?\n",
    "# T-test -> 1 sample t-test, 2 sample t-test (relevant as it is used to compaee 2 models), paired t-test\n"
   ]
  },
  {
   "cell_type": "code",
   "execution_count": 6,
   "metadata": {},
   "outputs": [],
   "source": [
    "# Task 2 rough\n",
    "x_train, x_test, y_train, y_test = fetch_datasets()\n",
    "\n",
    "x_train_norm, x_test_norm = normalise_min_max(x_train, x_test)\n",
    "warnings.filterwarnings(\"ignore\", category=ConvergenceWarning)\n",
    "\n",
    "# y_pred = mlp.predict(x_test_norm)\n",
    "# confusion_matrix(y_test, y_pred)\n",
    "# FP = confusion_matrix.sum(axis=0) - np.diag(confusion_matrix)  \n",
    "# FN = confusion_matrix.sum(axis=1) - np.diag(confusion_matrix)\n",
    "# TP = np.diag(confusion_matrix)\n",
    "# TN = confusion_matrix.values.sum() - (FP + FN + TP)\n"
   ]
  },
  {
   "cell_type": "code",
   "execution_count": 14,
   "metadata": {},
   "outputs": [
    {
     "name": "stdout",
     "output_type": "stream",
     "text": [
      "----- Classification Report -----\n",
      "              precision    recall  f1-score   support\n",
      "\n",
      "         0.0       0.93      0.93      0.93       613\n",
      "         1.0       0.98      0.96      0.97       605\n",
      "         2.0       0.90      0.93      0.92       628\n",
      "         3.0       0.83      0.86      0.84       499\n",
      "         4.0       0.94      0.94      0.94       507\n",
      "         5.0       0.91      0.93      0.92       409\n",
      "         6.0       0.88      0.83      0.85       481\n",
      "         7.0       0.95      0.97      0.96       583\n",
      "         8.0       0.93      0.88      0.90       511\n",
      "         9.0       0.98      0.98      0.98       564\n",
      "\n",
      "    accuracy                           0.92      5400\n",
      "   macro avg       0.92      0.92      0.92      5400\n",
      "weighted avg       0.93      0.92      0.92      5400\n",
      "\n"
     ]
    }
   ],
   "source": [
    "mlp = MLPClassifier(hidden_layer_sizes=(50, 100, 50), activation='tanh', solver='sgd', alpha=0.0001, random_state=42, shuffle=False) # Configuration derived from hyperparameter tuning\n",
    "mlp.fit(x_train_norm, y_train)\n",
    "\n",
    "fetch_classification_report(mlp, x_test_norm, y_test)\n",
    "\n",
    "# Class 3 -> Precision - 83, Recall - 86 \n",
    "# Class 6 -> Precision - 88, Recall - 83"
   ]
  },
  {
   "cell_type": "code",
   "execution_count": 30,
   "metadata": {},
   "outputs": [
    {
     "name": "stdout",
     "output_type": "stream",
     "text": [
      "15005\n"
     ]
    }
   ],
   "source": [
    "# for i in mlp.coefs_:\n",
    "#     print(i)\n",
    "# # print(mlp.loss_)\n",
    "# print(np.unique(y_train)) # 16200 - do for y_test same\n",
    "occurrences_of_5 = np.where(y_train == 5)[0] # Lowest occurences class\n",
    "num_occurences = len(occurrences_of_5)\n",
    "other_indices = np.where(y_train != 5)[0]\n",
    "\n",
    "selected_indices_other_classes = []\n",
    "for class_label in np.unique(y_train):\n",
    "    if class_label != 3:\n",
    "        class_indices = np.where(y_train == class_label)[0]\n",
    "        selected_indices = np.random.choice(class_indices, size=num_occurrences_class_3, replace=False)\n",
    "        selected_indices_other_classes.extend(selected_indices)\n"
   ]
  },
  {
   "cell_type": "markdown",
   "metadata": {},
   "source": [
    "Markdown Question: What was the hypothesis you rejected in this task? How does p-value affect your decision?"
   ]
  },
  {
   "cell_type": "markdown",
   "metadata": {},
   "source": []
  }
 ],
 "metadata": {
  "kernelspec": {
   "display_name": "Python 3",
   "language": "python",
   "name": "python3"
  },
  "language_info": {
   "codemirror_mode": {
    "name": "ipython",
    "version": 3
   },
   "file_extension": ".py",
   "mimetype": "text/x-python",
   "name": "python",
   "nbconvert_exporter": "python",
   "pygments_lexer": "ipython3",
   "version": "3.12.0"
  }
 },
 "nbformat": 4,
 "nbformat_minor": 2
}
