{
 "cells": [
  {
   "cell_type": "markdown",
   "metadata": {},
   "source": [
    "## Test Markdown for Task 1\n",
    "\n",
    "We present a novel dataset based on Sentinel-2 satellite images covering <span style=\"color:blue; font-weight:bold;\">13 spectral bands</span> and consisting out of <span style=\"color:blue; font-weight:bold;\">10 classes</span> with in total <span style=\"color:blue; font-weight:bold;\">27,000 labeled and geo-referenced images</span>. We provide benchmarks for this novel dataset with its spectral bands using state-of-the-art deep Convolutional Neural Network (CNNs). With the proposed novel dataset, we achieved an overall classification accuracy of <span style=\"color:red; font-weight:bold;\">98.57%</span>. The resulting classification system opens a gate towards a number of Earth observation applications. We demonstrate how this classification system can be used for detecting land use and land cover changes and how it can assist in improving geographical maps. The geo-referenced dataset EuroSAT is made publicly available here."
   ]
  },
  {
   "cell_type": "markdown",
   "metadata": {},
   "source": [
    "Things to understand:\n",
    "    1. Spectral bands?\n",
    "    2. 10 classes?\n",
    "    3. Labeled and geo-referenced images"
   ]
  },
  {
   "cell_type": "code",
   "execution_count": 15,
   "metadata": {},
   "outputs": [
    {
     "name": "stdout",
     "output_type": "stream",
     "text": [
      "(16200, 512)\n"
     ]
    }
   ],
   "source": [
    "import numpy as np\n",
    "file_path = \"Datasets/x_train.npy\"\n",
    "data = np.load(file_path)\n",
    "print(data.shape)\n",
    "print(data.dtype.names)\n",
    "print(data[:5])"
   ]
  }
 ],
 "metadata": {
  "kernelspec": {
   "display_name": "Python 3",
   "language": "python",
   "name": "python3"
  },
  "language_info": {
   "codemirror_mode": {
    "name": "ipython",
    "version": 3
   },
   "file_extension": ".py",
   "mimetype": "text/x-python",
   "name": "python",
   "nbconvert_exporter": "python",
   "pygments_lexer": "ipython3",
   "version": "3.12.0"
  }
 },
 "nbformat": 4,
 "nbformat_minor": 2
}
