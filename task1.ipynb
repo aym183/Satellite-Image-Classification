{
 "cells": [
  {
   "cell_type": "markdown",
   "metadata": {},
   "source": [
    "## Test Markdown for Task 1\n",
    "\n",
    "We present a novel dataset based on Sentinel-2 satellite images covering <span style=\"color:blue; font-weight:bold;\">13 spectral bands</span> and consisting out of <span style=\"color:blue; font-weight:bold;\">10 classes with 2 to 3k per class</span> in total <span style=\"color:blue; font-weight:bold;\">27,000 labeled and geo-referenced images</span>. We provide benchmarks for this novel dataset with its spectral bands using state-of-the-art deep Convolutional Neural Network (CNNs). With the proposed novel dataset, we achieved an overall classification accuracy of <span style=\"color:red; font-weight:bold;\">98.57%</span>. The resulting classification system opens a gate towards a number of Earth observation applications. We demonstrate how this classification system can be used for detecting land use and land cover changes and how it can assist in improving geographical maps. The geo-referenced dataset EuroSAT is made publicly available here."
   ]
  },
  {
   "cell_type": "markdown",
   "metadata": {},
   "source": [
    "Things to understand:\n",
    "- Spectral bands - different ranges of wavelengths of light that are captured by a satellite sensor\n",
    "- 10 classes\n",
    "- Labeled and geo-referenced images\n",
    "- CNNs\n",
    "- Why is land use and cover classification relevant?\n",
    "- supervised machine learning\n",
    "-  mutli-spectral image data provided by the Sentinel-2A satellite "
   ]
  },
  {
   "cell_type": "markdown",
   "metadata": {},
   "source": [
    "## Spectral Bands and Classes\n",
    "<img title=\"a title\" alt=\"Alt text\" src=\"Images/spectral_bands.png\" width=\"250\" height=\"200\"> <img title=\"a title\" alt=\"Alt text\" src=\"Images/sample_image_patches.png\" width=\"350\" height=\"200\">\n",
    "\n",
    "The three bands B01, B09 and B10 are intended to be used for the correction of atmospheric effects(e.g., aerosols, cirrus or water vapor). The remaining bands are primarily intended to identify and monitor land use and land cover classes."
   ]
  },
  {
   "cell_type": "markdown",
   "metadata": {},
   "source": [
    "## Classification Accuracy\n",
    "\n",
    "<img title=\"a title\" alt=\"Alt text\" src=\"Images/classification_accuracy_train_test.png\" width=\"600\" height=\"250\"> <img title=\"a title\" alt=\"Alt text\" src=\"Images/classification_accuracy_best.png\" width=\"350\" height=\"200\"> <img title=\"a title\" alt=\"Alt text\" src=\"Images/classification_accuracy_resnet.png\" width=\"200\" height=\"200\">"
   ]
  },
  {
   "cell_type": "markdown",
   "metadata": {},
   "source": [
    "Notes\n",
    "- The aim of land use and land cover classification is to automatically provide labels describing the represented physical land type or how a land area is used\n",
    "- Data only covers EU countries\n",
    "- In order to improve the chance of getting valuable image patches, we selected satellite images with a low cloud level. Besides the possibility to generate a cloud mask, ESA provides a cloud level value for each satellite image allowing to quickly select images with a low percentage of clouds covering the land scene"
   ]
  },
  {
   "cell_type": "markdown",
   "metadata": {},
   "source": [
    "## Tips for High Marks\n",
    "- Explore different models in sklearn beyond those covered in class\n",
    "  - Describe conclusions\n",
    "  - Use different metrics and see what you observe (Dont just add all, understand why and show it)\n",
    "- Visualisation examples\n",
    "    - Understand how well your model and feature selection works\n",
    "    - Start with a qn -> hypotheses -> Then BAM\n",
    "- Use functions as much as possible, minimal classes\n",
    "- Print images, accuracies, etc as much as possible (So grader can glance)\n",
    "- NO PANDAS\n",
    "- Run and save notebook using Pickl (?) so on appear, they can see everything\n",
    "- Technical mastery of module curriculum This include illustration/utilization of items like CV, proper training/testing protocols and\n",
    "visualizations where appropriate.\n",
    "\n",
    "## Dont's for Low Marks\n",
    "- Perform pre-processing steps we haven't covered like noise/outlier removal\n",
    "  - Wont get you additional marks\n",
    "- Hyperparameter optimisation -> Explain I am trying to optimise this parameter, this is what it does, and these are the values ive tried\n",
    "  - You can do this manually by looking at a range of values\n",
    "  - Describe the quantities you are optimising\n",
    "  - There are systematic methods like GridSearchCV, DONT USE! "
   ]
  },
  {
   "cell_type": "code",
   "execution_count": 35,
   "metadata": {},
   "outputs": [],
   "source": [
    "import numpy as np\n",
    "from sklearn.svm import SVC\n",
    "import matplotlib.pyplot as plt \n",
    "from sklearn.model_selection import cross_val_score, KFold\n",
    "from  sklearn.preprocessing import OneHotEncoder\n",
    "from functions.pre_processing import find_missing_values, find_negative_values, plot_split_of_values\n",
    "from sklearn.feature_selection import r_regression, SelectKBest\n",
    "from sklearn.metrics import accuracy_score\n",
    "from sklearn.preprocessing import MinMaxScaler, StandardScaler"
   ]
  },
  {
   "cell_type": "code",
   "execution_count": 36,
   "metadata": {},
   "outputs": [
    {
     "name": "stdout",
     "output_type": "stream",
     "text": [
      "(16200, 512)\n",
      "(5400, 512)\n",
      "(16200,)\n",
      "(5400,)\n",
      "[[0.46573916 0.         0.         ... 0.15444896 0.02761412 0.        ]\n",
      " [0.         0.         0.         ... 0.42438483 0.08174433 0.0502976 ]\n",
      " [0.15436319 0.01907348 0.02712335 ... 0.         0.08633541 0.        ]\n",
      " ...\n",
      " [0.         0.22086209 0.07728773 ... 0.11481228 0.1169597  0.        ]\n",
      " [0.         0.         0.15300888 ... 0.         0.04044536 0.00111793]\n",
      " [0.0839657  0.         0.         ... 0.00469289 0.13740638 0.        ]]\n",
      "[0. 1. 2. 3. 4. 5. 6. 7. 8. 9.]\n"
     ]
    }
   ],
   "source": [
    "x_train = np.load(\"datasets/x_train.npy\")\n",
    "x_test = np.load(\"datasets/x_test.npy\")\n",
    "y_train = np.load(\"datasets/y_train.npy\")\n",
    "y_test = np.load(\"datasets/y_test.npy\")\n",
    "\n",
    "# ((16200 rows, 512 cols) for x_train, (5400 rows, 512 cols) for x_test) | (16200,) -> Represents one dimensional array for y_train, (5400,) -> Represents one dimensional array for for y_test\n",
    "# Train test split -> 75/25\n",
    "print(x_train.shape)\n",
    "print(x_test.shape)\n",
    "print(y_train.shape)\n",
    "print(y_test.shape)\n",
    "\n",
    "# All values float\n",
    "\n",
    "print(x_train) # 512 features -> Numerical features - Features with values that are continuous on a scale, statistical, or integer-related\n",
    "print(np.unique(y_train)) # [0. 1. 2. 3. 4. 5. 6. 7. 8. 9.] -> 10 classes of possible outputs, and the reoccurences are just one of these values indicating a class"
   ]
  },
  {
   "cell_type": "markdown",
   "metadata": {},
   "source": [
    "## Task 1\n",
    "\n",
    "Write a Python program to pre-process and transform the dataset into a format suitable for developing machine learning models. Use pearson correlation method to identify ten most important features. Use these features to build a SVM classifier and evaluate your model’s performance.\n",
    "\n",
    "Markdown Question: The difficulty in using pearson correlation method for feature selection is determining the appropriate number of features to select. The method described in the module to automatically choose the appropriate number of features will be computationally very expensive when the number of features is high. Describe an alternative method to reduce the computational complexity of the method discussed in class for datasets with large number of features. Describe the method. No need to write the program.\n",
    "\n",
    "<span style=\"font-weight:bold;\">Save your response (program and markdown) as task1.ipynb.</span>"
   ]
  },
  {
   "cell_type": "code",
   "execution_count": 37,
   "metadata": {},
   "outputs": [
    {
     "name": "stdout",
     "output_type": "stream",
     "text": [
      "Missing Values in x_train -> 0, Missing Values in x_test -> 0\n",
      "Negative Values in x_train -> 0, Negative Values in x_test -> 0\n"
     ]
    },
    {
     "data": {
      "image/png": "[encoded data removed]",
      "text/plain": [
       "<Figure size 1500x400 with 2 Axes>"
      ]
     },
     "metadata": {},
     "output_type": "display_data"
    }
   ],
   "source": [
    "# ------- PRE PROCESSING [Fix Messed up Data] ---------\n",
    "# PRE PROCESSING done on both training and test data\n",
    "# Imputation -> (Univariate and Multivariate) -> process of inferring missing values based on the available data.\n",
    "\n",
    "# Don't need OneHotEncoder or any other because all are float values\n",
    "'''\n",
    "Try different techniques of pre processing and transformation and see the difference in results?\n",
    "'''\n",
    "\n",
    "print(f\"{find_missing_values(x_train, \"x_train\")}, {find_missing_values(x_test, \"x_test\")}\")\n",
    "print(f\"{find_negative_values(x_train, \"x_train\")}, {find_negative_values(x_test, \"x_test\")}\")\n",
    "# Dont have any missing or negative values\n",
    "plot_split_of_values([x_train, x_test])\n",
    "\n",
    "# Variance Threshold?\n"
   ]
  },
  {
   "cell_type": "markdown",
   "metadata": {},
   "source": [
    "## Because of no missing values, Imputation was not used"
   ]
  },
  {
   "cell_type": "markdown",
   "metadata": {},
   "source": [
    "Pearson Classification Evaluation Table\n",
    "\n",
    "<img title=\"a title\" alt=\"Alt text\" src=\"Images/pearson_evaluation.png\" width=\"350\" height=\"200\">"
   ]
  },
  {
   "cell_type": "code",
   "execution_count": 55,
   "metadata": {},
   "outputs": [
    {
     "name": "stdout",
     "output_type": "stream",
     "text": [
      "[178 479 136 369 254 440  38 485 116  64]\n"
     ]
    },
    {
     "data": {
      "image/png": "[encoded data removed]",
      "text/plain": [
       "<Figure size 1000x600 with 1 Axes>"
      ]
     },
     "metadata": {},
     "output_type": "display_data"
    }
   ],
   "source": [
    "# ------- TRANSFORMATION [Standardise it] ---------\n",
    "# Normalisation -> Feature selection\n",
    "# Whats Standard Scaler \n",
    "# ------- FEATURE SELECTION -> PEARSON CLASSIFICATION [Helps estimate the importance of a feature] ---------\n",
    "    # Somehow visualise this\n",
    "\n",
    "# Feature selection (if x features are highly correlated, remove some because dont need all)\n",
    "\n",
    "# Scaler\n",
    "\n",
    "## WHY NORMALISATION BEFORE PR Coeffeciant & Feature Selection -> Normalization ensures that all features are on a similar scale, which can help prevent certain features from dominating the correlation calculations or feature selection process due to differences in their scales.\n",
    " # Is -1, 1 right?\n",
    "\n",
    "# Why? Because the classes numbers dont mean anything and are separate\n",
    "# ohc = OneHotEncoder(categories='auto', dtype=float)\n",
    "# x_ohc = ohc.fit_transform(x_train)\n",
    "# x_test_ohc = ohc.fit_transform(x_test)\n",
    "# --------------- EVALUATE DIFFERENT NORMALISATION METHODS [BEST PERFORMANCE IS MinMaxScaler]\n",
    "\n",
    "min_max_scaler = MinMaxScaler(feature_range=(-1, 1)) # ------ Doing normalisation before/after pearson has no impact\n",
    "x_train_norm = min_max_scaler.fit_transform(x_train)\n",
    "x_test_norm = min_max_scaler.fit_transform(x_test)\n",
    "\n",
    "# standard_scaler = StandardScaler()\n",
    "# x_train_norm = standard_scaler.fit_transform(x_train)\n",
    "# x_test_norm = standard_scaler.fit_transform(x_test)\n",
    "\n",
    "# robust_scaler = RobustScaler()\n",
    "# x_train_norm = robust_scaler.fit_transform(x_train)\n",
    "# x_test_norm = robust_scaler.fit_transform(x_test)\n",
    "\n",
    "# -------------------------------------------------------\n",
    "\n",
    "# Any difference bwn SelectKBest and Pearson?\n",
    "# skb = SelectKBest(r_regression, k=10)\n",
    "# skb.fit(x_train, y_train)\n",
    "# x_train_fit = skb.transform(x_train)\n",
    "# x_test_fit = skb.transform(x_test)\n",
    "\n",
    "\n",
    "# ----- Standard Scaler and MIN MAX SCALER DIFFERENCE\n",
    "\n",
    "# Take a look at the correlation values\n",
    "pr_coeff = r_regression(x_train_norm, y_train)\n",
    "# print(pr_coeff)\n",
    "imp_features = np.argsort(np.abs(pr_coeff))\n",
    "\n",
    "print(imp_features[:10])\n",
    "\n",
    "data = imp_features[:10]\n",
    "plt.figure(figsize=(10, 6))\n",
    "plt.bar(range(len(data)), data)\n",
    "plt.xlabel('Index')\n",
    "plt.ylabel('Value')\n",
    "plt.title('Bar chart of each value mapped')\n",
    "plt.show()\n",
    "\n",
    "\n",
    "# correlation_matrix = np.corrcoef(x_train_norm, rowvar=False)\n",
    "\n",
    "# Min - -0.318938080678068\n",
    "# Max - 0.3630486169457985\n",
    "\n",
    "# ----------------------------------------------------------------\n",
    "\n",
    "# One-Hot Encoding -> The categorical feature is not ordinal \n",
    "# Label and Ordinal Encoding -> The categorical feature is ordinal (Like JR, SR, high school)\n"
   ]
  },
  {
   "cell_type": "code",
   "execution_count": 51,
   "metadata": {},
   "outputs": [
    {
     "name": "stdout",
     "output_type": "stream",
     "text": [
      "Training Accuracy:  0.5920987654320987\n",
      "Testing Accuracy:  0.5607407407407408\n"
     ]
    }
   ],
   "source": [
    "# What does the C hyperparameterisation do?\n",
    "# What parameters can be optimised in SVC\n",
    "\n",
    "# ----- Show how this figure was gotten in terms of parameters to get the best output\n",
    "# Holdout method\n",
    "# C = 50, kernel - rbf\n",
    "svc = SVC(kernel='rbf') # Why poly and how does it work\n",
    "selected_features = x_train_norm[:, imp_features[:10]]\n",
    "selected_test_features = x_test_norm[:, imp_features[:10]]\n",
    "\n",
    "svc.fit(selected_features, y_train)\n",
    "svc.score(selected_test_features, y_test) \n",
    "\n",
    "# Works well after normalisation, its the feature selection thats messing it up (Could be 10 is not the right number or bad features selected)\n",
    "# \n",
    "print('Training Accuracy: ', svc.score(selected_features, y_train))\n",
    "print('Testing Accuracy: ', svc.score(selected_test_features, y_test))\n",
    "\n",
    "# CROSS VALIDATION AND K-FOLD VALIDATION NEEDED \n",
    "\n",
    "# ------------------------------------------------------------------------------------\n",
    "\n",
    "# normal dataset\n",
    "    # All features\n",
    "        # Training Accuracy:  0.9711111111111111\n",
    "        # Testing Accuracy:  0.9283333333333333\n",
    "    # Top 10 features\n",
    "        # Training Accuracy:  0.5820987654320988\n",
    "        # Testing Accuracy:  0.5507407407407408\n",
    "\n",
    "# normalised dataset [better with normalisation]\n",
    "    # All features (rbf)\n",
    "        # Training Accuracy:  0.9761728395061728\n",
    "        # Testing Accuracy:  0.9305555555555556\n",
    "    # Top 10 features ------ BEST SO FAR -------\n",
    "        #  ----- RBF (no C)\n",
    "        # Training Accuracy:  0.5920987654320987\n",
    "        # Testing Accuracy:  0.5607407407407408\n",
    "\n",
    "\n",
    "        # NOT USING RBF DUE TO OVERFITTING (Large difference between training and test)\n",
    "        # kernel -> rbf | C -> 7 + StandardScaler  ---- BEST ----\n",
    "        # Training Accuracy:  0.6462345679012346\n",
    "        # Testing Accuracy:  0.5648148148148148\n",
    "\n",
    "        # kernel -> rbf | C -> 50 + StandardScaler -> Overfitting\n",
    "        # Training Accuracy:  0.7183950617283951\n",
    "        # Testing Accuracy:  0.5592592592592592   \n",
    "\n",
    "        # --------------------------------\n",
    "        # Linear -> C= 15\n",
    "        # Training Accuracy:  0.49679012345679013\n",
    "        # Testing Accuracy:  0.49092592592592593\n"
   ]
  },
  {
   "cell_type": "code",
   "execution_count": 52,
   "metadata": {},
   "outputs": [
    {
     "name": "stdout",
     "output_type": "stream",
     "text": [
      "0.5301851851851851 0.014417115647519947\n"
     ]
    }
   ],
   "source": [
    "svc_scores = cross_val_score(svc, selected_test_features, y_test, cv=10)\n",
    "print(svc_scores.mean(), svc_scores.std())"
   ]
  },
  {
   "cell_type": "code",
   "execution_count": 46,
   "metadata": {},
   "outputs": [
    {
     "name": "stdout",
     "output_type": "stream",
     "text": [
      "kernel -> linear | C -> 1\n",
      "Training Accuracy:  0.5920987654320987\n",
      "Testing Accuracy:  0.5607407407407408\n",
      "-----------------------\n",
      "kernel -> linear | C -> 2\n",
      "Training Accuracy:  0.6077160493827161\n",
      "Testing Accuracy:  0.5616666666666666\n",
      "-----------------------\n",
      "kernel -> linear | C -> 3\n",
      "Training Accuracy:  0.6167901234567901\n",
      "Testing Accuracy:  0.5622222222222222\n",
      "-----------------------\n",
      "kernel -> linear | C -> 4\n",
      "Training Accuracy:  0.625679012345679\n",
      "Testing Accuracy:  0.5564814814814815\n",
      "-----------------------\n",
      "kernel -> linear | C -> 5\n",
      "Training Accuracy:  0.6315432098765432\n",
      "Testing Accuracy:  0.554074074074074\n",
      "-----------------------\n",
      "kernel -> linear | C -> 6\n",
      "Training Accuracy:  0.634753086419753\n",
      "Testing Accuracy:  0.5538888888888889\n",
      "-----------------------\n",
      "kernel -> linear | C -> 7\n",
      "Training Accuracy:  0.6384567901234568\n",
      "Testing Accuracy:  0.554074074074074\n",
      "-----------------------\n",
      "kernel -> linear | C -> 8\n",
      "Training Accuracy:  0.6418518518518519\n",
      "Testing Accuracy:  0.5524074074074075\n",
      "-----------------------\n",
      "kernel -> linear | C -> 9\n",
      "Training Accuracy:  0.6470987654320988\n",
      "Testing Accuracy:  0.5524074074074075\n",
      "-----------------------\n",
      "kernel -> linear | C -> 10\n",
      "Training Accuracy:  0.6503086419753087\n",
      "Testing Accuracy:  0.5512962962962963\n",
      "-----------------------\n",
      "kernel -> linear | C -> 11\n",
      "Training Accuracy:  0.6538271604938272\n",
      "Testing Accuracy:  0.5494444444444444\n",
      "-----------------------\n",
      "kernel -> linear | C -> 12\n",
      "Training Accuracy:  0.6556172839506172\n",
      "Testing Accuracy:  0.5492592592592592\n",
      "-----------------------\n",
      "kernel -> linear | C -> 13\n",
      "Training Accuracy:  0.6585802469135802\n",
      "Testing Accuracy:  0.5481481481481482\n",
      "-----------------------\n",
      "kernel -> linear | C -> 14\n",
      "Training Accuracy:  0.6616666666666666\n",
      "Testing Accuracy:  0.5477777777777778\n",
      "-----------------------\n"
     ]
    }
   ],
   "source": [
    "kernels = ['linear', 'rbf', 'sigmoid']\n",
    "for i in range(1, 15):\n",
    "        svc = SVC(C=float(i), kernel='rbf') # Why poly and how does it work\n",
    "        selected_features = x_train_norm[:, imp_features[:10]]\n",
    "        selected_test_features = x_test_norm[:, imp_features[:10]]\n",
    "        svc.fit(selected_features, y_train)\n",
    "        svc.score(selected_test_features, y_test) \n",
    "        print(f'kernel -> linear | C -> {i}')\n",
    "        print('Training Accuracy: ', svc.score(selected_features, y_train))\n",
    "        print('Testing Accuracy: ', svc.score(selected_test_features, y_test))\n",
    "        print('-----------------------')"
   ]
  },
  {
   "cell_type": "code",
   "execution_count": null,
   "metadata": {},
   "outputs": [],
   "source": []
  }
 ],
 "metadata": {
  "kernelspec": {
   "display_name": "Python 3",
   "language": "python",
   "name": "python3"
  },
  "language_info": {
   "codemirror_mode": {
    "name": "ipython",
    "version": 3
   },
   "file_extension": ".py",
   "mimetype": "text/x-python",
   "name": "python",
   "nbconvert_exporter": "python",
   "pygments_lexer": "ipython3",
   "version": "3.12.0"
  }
 },
 "nbformat": 4,
 "nbformat_minor": 2
}
