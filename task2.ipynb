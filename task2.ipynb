{
 "cells": [
  {
   "cell_type": "markdown",
   "metadata": {},
   "source": [
    "## Task 2 - Classification/Regression (Use all features)\n",
    "\n",
    "Write a Python program to build a MLP classifier and evaluate your model’s performance. For this task, you should use the pre-processed and transformed dataset without feature selection from Task 3.1.\n",
    "\n",
    "<span style=\"font-weight:bold;\">Save your response (program and markdown) as task2.ipynb</span>"
   ]
  },
  {
   "cell_type": "code",
   "execution_count": null,
   "metadata": {},
   "outputs": [],
   "source": [
    "# when to use linear regression"
   ]
  },
  {
   "cell_type": "code",
   "execution_count": 1,
   "metadata": {},
   "outputs": [],
   "source": [
    "import numpy as np\n",
    "from sklearn.svm import SVC\n",
    "import matplotlib.pyplot as plt \n",
    "from functions.pre_processing import *\n",
    "from functions.transformations import *\n",
    "from functions.feature_selection import *\n",
    "from functions.analysis import *\n",
    "from functions.classifiers import *\n",
    "from sklearn.metrics import accuracy_score"
   ]
  },
  {
   "cell_type": "markdown",
   "metadata": {},
   "source": [
    "-----\n",
    "## Pre-Processing and Transformation"
   ]
  },
  {
   "cell_type": "code",
   "execution_count": 2,
   "metadata": {},
   "outputs": [],
   "source": [
    "x_train, x_test, y_train, y_test = fetch_datasets()\n",
    "x_train_norm, x_test_norm = normalise_min_max(x_train, x_test)\n",
    "# x_train_norm, x_test_norm = normalise_std_scaler(x_train, x_test)\n",
    "\n",
    "# x_train_norm, x_test_norm = normalise_robust_scaler(x_train, x_test)\n",
    "\n"
   ]
  },
  {
   "cell_type": "markdown",
   "metadata": {},
   "source": [
    "---\n",
    "## MLP Classifier Training"
   ]
  },
  {
   "cell_type": "code",
   "execution_count": 3,
   "metadata": {},
   "outputs": [
    {
     "name": "stdout",
     "output_type": "stream",
     "text": [
      "Testing Accuracy - [8. 9. 9. ... 3. 4. 2.]\n",
      "Accuracy: 0.9255555555555556\n",
      "Classification Report:\n",
      "              precision    recall  f1-score   support\n",
      "\n",
      "         0.0       0.93      0.94      0.93       613\n",
      "         1.0       0.97      0.97      0.97       605\n",
      "         2.0       0.91      0.93      0.92       628\n",
      "         3.0       0.85      0.86      0.86       499\n",
      "         4.0       0.96      0.94      0.95       507\n",
      "         5.0       0.90      0.91      0.90       409\n",
      "         6.0       0.85      0.87      0.86       481\n",
      "         7.0       0.97      0.96      0.97       583\n",
      "         8.0       0.92      0.87      0.89       511\n",
      "         9.0       0.99      0.97      0.98       564\n",
      "\n",
      "    accuracy                           0.93      5400\n",
      "   macro avg       0.92      0.92      0.92      5400\n",
      "weighted avg       0.93      0.93      0.93      5400\n",
      "\n"
     ]
    }
   ],
   "source": [
    "mlp_training = mlp_classifier(x_train, x_test, y_train, y_test, \"\")"
   ]
  },
  {
   "cell_type": "markdown",
   "metadata": {},
   "source": [
    "---\n",
    "## Hyperparameter Optimisation"
   ]
  },
  {
   "cell_type": "markdown",
   "metadata": {},
   "source": [
    "---\n",
    "## Evaluation"
   ]
  }
 ],
 "metadata": {
  "kernelspec": {
   "display_name": "Python 3",
   "language": "python",
   "name": "python3"
  },
  "language_info": {
   "codemirror_mode": {
    "name": "ipython",
    "version": 3
   },
   "file_extension": ".py",
   "mimetype": "text/x-python",
   "name": "python",
   "nbconvert_exporter": "python",
   "pygments_lexer": "ipython3",
   "version": "3.12.0"
  }
 },
 "nbformat": 4,
 "nbformat_minor": 2
}
